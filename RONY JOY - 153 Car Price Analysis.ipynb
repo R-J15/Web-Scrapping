{
 "cells": [
  {
   "cell_type": "code",
   "execution_count": 1,
   "id": "e1d06e14",
   "metadata": {},
   "outputs": [],
   "source": [
    "import numpy as np\n",
    "import pandas as pd\n",
    "import matplotlib.pyplot as plt\n",
    "import seaborn as sns\n",
    "import requests\n",
    "from bs4 import BeautifulSoup\n",
    "import re\n",
    "import time"
   ]
  },
  {
   "cell_type": "code",
   "execution_count": 2,
   "id": "7657e284",
   "metadata": {},
   "outputs": [],
   "source": [
    "import time\n",
    "from selenium import webdriver\n",
    "from webdriver_manager.chrome import ChromeDriverManager"
   ]
  },
  {
   "cell_type": "markdown",
   "id": "8f9d3fc4",
   "metadata": {},
   "source": [
    "### DATA COLLECTION"
   ]
  },
  {
   "cell_type": "code",
   "execution_count": 1,
   "id": "dc68d7f1",
   "metadata": {
    "scrolled": false
   },
   "outputs": [
    {
     "ename": "NameError",
     "evalue": "name 'webdriver' is not defined",
     "output_type": "error",
     "traceback": [
      "\u001b[1;31m---------------------------------------------------------------------------\u001b[0m",
      "\u001b[1;31mNameError\u001b[0m                                 Traceback (most recent call last)",
      "Input \u001b[1;32mIn [1]\u001b[0m, in \u001b[0;36m<cell line: 2>\u001b[1;34m()\u001b[0m\n\u001b[0;32m      1\u001b[0m \u001b[38;5;66;03m# Web scrapper for infinite scrolling page \u001b[39;00m\n\u001b[1;32m----> 2\u001b[0m driver \u001b[38;5;241m=\u001b[39m \u001b[43mwebdriver\u001b[49m\u001b[38;5;241m.\u001b[39mChrome(ChromeDriverManager()\u001b[38;5;241m.\u001b[39minstall())\n\u001b[0;32m      3\u001b[0m driver\u001b[38;5;241m.\u001b[39mget(\u001b[38;5;124m'\u001b[39m\u001b[38;5;124mhttps://www.cars24.com/buy-used-car?sort=P&storeCityId=2378&pinId=400001\u001b[39m\u001b[38;5;124m'\u001b[39m)\n\u001b[0;32m      4\u001b[0m time\u001b[38;5;241m.\u001b[39msleep(\u001b[38;5;241m2\u001b[39m)  \u001b[38;5;66;03m# Allow 2 seconds for the web page to open\u001b[39;00m\n",
      "\u001b[1;31mNameError\u001b[0m: name 'webdriver' is not defined"
     ]
    }
   ],
   "source": [
    "# Web scrapper for infinite scrolling page \n",
    "driver = webdriver.Chrome(ChromeDriverManager().install())\n",
    "driver.get('https://www.cars24.com/buy-used-car?sort=P&storeCityId=2378&pinId=400001')\n",
    "time.sleep(2)  # Allow 2 seconds for the web page to open\n",
    "scroll_pause_time = 1 # You can set your own pause time. My laptop is a bit slow so I use 1 sec\n",
    "screen_height = driver.execute_script(\"return window.screen.height;\")   # get the screen height of the web\n",
    "i = 1\n",
    "\n",
    "while i<90:\n",
    "    # scroll one screen height each time\n",
    "    driver.execute_script(\"window.scrollTo(0, {screen_height}*{i});\".format(screen_height=screen_height, i=i))  \n",
    "    i += 1\n",
    "    time.sleep(scroll_pause_time)\n",
    "    # update scroll height each time after scrolled, as the scroll height can change after we scrolled the page\n",
    "    scroll_height = driver.execute_script(\"return document.body.scrollHeight;\")  \n",
    "    # Break the loop when the height we need to scroll to is larger than the total scroll height\n",
    "    if (screen_height) * i > scroll_height:\n",
    "        break"
   ]
  },
  {
   "cell_type": "code",
   "execution_count": 5,
   "id": "84ce9855",
   "metadata": {},
   "outputs": [],
   "source": [
    "content=driver.page_source\n",
    "soup = BeautifulSoup(content)"
   ]
  },
  {
   "cell_type": "code",
   "execution_count": 6,
   "id": "c4ac8b50",
   "metadata": {},
   "outputs": [],
   "source": [
    "Brandmodel=[]\n",
    "Zeropay=[]\n",
    "Totalprice=[]\n",
    "Handowner=[]\n",
    "tranmission=[]\n",
    "        \n",
    "for x in soup.find_all('h2',attrs={'class':'_3FpCg'}):\n",
    "    Brandmodel.append(x.text)\n",
    "\n",
    "for x in soup.find_all('div',attrs={'class':'_2HFRN'}):\n",
    "    Zeropay.append(x.text)\n",
    "            \n",
    "for x in soup.find_all('div',attrs={'class':'_7udZZ'}):\n",
    "    Totalprice.append(x.text)\n",
    "        \n",
    "for x in soup.find_all('ul',attrs={'class':'bVR0c'}):\n",
    "    Handowner.append(x.text)\n",
    "        \n",
    "for x in soup.find_all('p',attrs={'class':'cvakB'}):\n",
    "    tranmission.append(x.text)\n",
    "                     \n",
    "        "
   ]
  },
  {
   "cell_type": "code",
   "execution_count": 7,
   "id": "70607f80",
   "metadata": {},
   "outputs": [
    {
     "data": {
      "text/plain": [
       "420"
      ]
     },
     "execution_count": 7,
     "metadata": {},
     "output_type": "execute_result"
    }
   ],
   "source": [
    "len(Brandmodel)\n",
    "len(Zeropay)\n",
    "len(Totalprice)\n",
    "len(Handowner)\n",
    "len(tranmission)"
   ]
  },
  {
   "cell_type": "code",
   "execution_count": 8,
   "id": "a1e9575c",
   "metadata": {},
   "outputs": [
    {
     "data": {
      "text/html": [
       "<div>\n",
       "<style scoped>\n",
       "    .dataframe tbody tr th:only-of-type {\n",
       "        vertical-align: middle;\n",
       "    }\n",
       "\n",
       "    .dataframe tbody tr th {\n",
       "        vertical-align: top;\n",
       "    }\n",
       "\n",
       "    .dataframe thead th {\n",
       "        text-align: right;\n",
       "    }\n",
       "</style>\n",
       "<table border=\"1\" class=\"dataframe\">\n",
       "  <thead>\n",
       "    <tr style=\"text-align: right;\">\n",
       "      <th></th>\n",
       "      <th>Title</th>\n",
       "      <th>Zero_Down_Payment</th>\n",
       "      <th>Total_Price</th>\n",
       "      <th>KM_on_Road</th>\n",
       "      <th>Transmission</th>\n",
       "    </tr>\n",
       "  </thead>\n",
       "  <tbody>\n",
       "    <tr>\n",
       "      <th>0</th>\n",
       "      <td>2015 Maruti Alto 800</td>\n",
       "      <td>₹6,671/month</td>\n",
       "      <td>₹2,99,899</td>\n",
       "      <td>6,381 km1st OwnerPetrol</td>\n",
       "      <td>LXI Manual</td>\n",
       "    </tr>\n",
       "    <tr>\n",
       "      <th>1</th>\n",
       "      <td>2020 Maruti Celerio X</td>\n",
       "      <td>₹14,695/month</td>\n",
       "      <td>₹6,60,599</td>\n",
       "      <td>4,613 km1st OwnerPetrol</td>\n",
       "      <td>ZXI OPT AMT Automatic</td>\n",
       "    </tr>\n",
       "    <tr>\n",
       "      <th>2</th>\n",
       "      <td>2020 Renault TRIBER</td>\n",
       "      <td>₹15,349/month</td>\n",
       "      <td>₹6,89,999</td>\n",
       "      <td>17,396 km2nd OwnerPetrol</td>\n",
       "      <td>RXZ AT Automatic</td>\n",
       "    </tr>\n",
       "    <tr>\n",
       "      <th>3</th>\n",
       "      <td>2015 Maruti Celerio</td>\n",
       "      <td>₹8,008/month</td>\n",
       "      <td>₹3,59,999</td>\n",
       "      <td>22,939 km1st OwnerPetrol</td>\n",
       "      <td>LXI Manual</td>\n",
       "    </tr>\n",
       "    <tr>\n",
       "      <th>4</th>\n",
       "      <td>2013 Hyundai i20</td>\n",
       "      <td>₹8,435/month</td>\n",
       "      <td>₹3,79,199</td>\n",
       "      <td>34,587 km1st OwnerPetrol</td>\n",
       "      <td>MAGNA O 1.2 Manual</td>\n",
       "    </tr>\n",
       "    <tr>\n",
       "      <th>...</th>\n",
       "      <td>...</td>\n",
       "      <td>...</td>\n",
       "      <td>...</td>\n",
       "      <td>...</td>\n",
       "      <td>...</td>\n",
       "    </tr>\n",
       "    <tr>\n",
       "      <th>415</th>\n",
       "      <td>2016 Hyundai Grand i10</td>\n",
       "      <td>₹11,358/month</td>\n",
       "      <td>₹5,10,599</td>\n",
       "      <td>71,122 km1st OwnerPetrol</td>\n",
       "      <td>ASTA AT 1.2 KAPPA VTVT Automatic</td>\n",
       "    </tr>\n",
       "    <tr>\n",
       "      <th>416</th>\n",
       "      <td>2018 Honda WR-V</td>\n",
       "      <td>₹17,075/month</td>\n",
       "      <td>₹7,67,599</td>\n",
       "      <td>25,660 km1st OwnerPetrol</td>\n",
       "      <td>1.2 i-VTEC VX MT Manual</td>\n",
       "    </tr>\n",
       "    <tr>\n",
       "      <th>417</th>\n",
       "      <td>2018 Honda City</td>\n",
       "      <td>₹23,397/month</td>\n",
       "      <td>₹10,51,799</td>\n",
       "      <td>33,613 km1st OwnerPetrol</td>\n",
       "      <td>ZX CVT Automatic</td>\n",
       "    </tr>\n",
       "    <tr>\n",
       "      <th>418</th>\n",
       "      <td>2021 Maruti Alto</td>\n",
       "      <td>₹10,003/month</td>\n",
       "      <td>₹4,49,699</td>\n",
       "      <td>3,401 km1st OwnerPetrol</td>\n",
       "      <td>VXI PLUS Manual</td>\n",
       "    </tr>\n",
       "    <tr>\n",
       "      <th>419</th>\n",
       "      <td>2018 Honda City</td>\n",
       "      <td>₹20,400/month</td>\n",
       "      <td>₹9,17,099</td>\n",
       "      <td>25,153 km1st OwnerPetrol</td>\n",
       "      <td>V CVT Automatic</td>\n",
       "    </tr>\n",
       "  </tbody>\n",
       "</table>\n",
       "<p>420 rows × 5 columns</p>\n",
       "</div>"
      ],
      "text/plain": [
       "                      Title Zero_Down_Payment Total_Price  \\\n",
       "0      2015 Maruti Alto 800      ₹6,671/month   ₹2,99,899   \n",
       "1     2020 Maruti Celerio X     ₹14,695/month   ₹6,60,599   \n",
       "2       2020 Renault TRIBER     ₹15,349/month   ₹6,89,999   \n",
       "3       2015 Maruti Celerio      ₹8,008/month   ₹3,59,999   \n",
       "4          2013 Hyundai i20      ₹8,435/month   ₹3,79,199   \n",
       "..                      ...               ...         ...   \n",
       "415  2016 Hyundai Grand i10     ₹11,358/month   ₹5,10,599   \n",
       "416         2018 Honda WR-V     ₹17,075/month   ₹7,67,599   \n",
       "417         2018 Honda City     ₹23,397/month  ₹10,51,799   \n",
       "418        2021 Maruti Alto     ₹10,003/month   ₹4,49,699   \n",
       "419         2018 Honda City     ₹20,400/month   ₹9,17,099   \n",
       "\n",
       "                   KM_on_Road                      Transmission  \n",
       "0     6,381 km1st OwnerPetrol                        LXI Manual  \n",
       "1     4,613 km1st OwnerPetrol             ZXI OPT AMT Automatic  \n",
       "2    17,396 km2nd OwnerPetrol                  RXZ AT Automatic  \n",
       "3    22,939 km1st OwnerPetrol                        LXI Manual  \n",
       "4    34,587 km1st OwnerPetrol                MAGNA O 1.2 Manual  \n",
       "..                        ...                               ...  \n",
       "415  71,122 km1st OwnerPetrol  ASTA AT 1.2 KAPPA VTVT Automatic  \n",
       "416  25,660 km1st OwnerPetrol           1.2 i-VTEC VX MT Manual  \n",
       "417  33,613 km1st OwnerPetrol                  ZX CVT Automatic  \n",
       "418   3,401 km1st OwnerPetrol                   VXI PLUS Manual  \n",
       "419  25,153 km1st OwnerPetrol                   V CVT Automatic  \n",
       "\n",
       "[420 rows x 5 columns]"
      ]
     },
     "execution_count": 8,
     "metadata": {},
     "output_type": "execute_result"
    }
   ],
   "source": [
    "Car_df = pd.DataFrame({'Title':Brandmodel, 'Zero_Down_Payment':Zeropay, 'Total_Price': Totalprice, 'KM_on_Road':Handowner, 'Transmission': tranmission})\n",
    "Car_df"
   ]
  },
  {
   "cell_type": "code",
   "execution_count": 9,
   "id": "a88510c6",
   "metadata": {},
   "outputs": [],
   "source": [
    "Car_df.to_excel('E:\\Python\\Python notes\\Car_data_f.xlsx')\n"
   ]
  },
  {
   "cell_type": "markdown",
   "id": "ba201c8e",
   "metadata": {},
   "source": [
    "### DATA CLEANING"
   ]
  },
  {
   "cell_type": "code",
   "execution_count": 2,
   "id": "dff9f3ea",
   "metadata": {
    "scrolled": false
   },
   "outputs": [
    {
     "data": {
      "text/html": [
       "<div>\n",
       "<style scoped>\n",
       "    .dataframe tbody tr th:only-of-type {\n",
       "        vertical-align: middle;\n",
       "    }\n",
       "\n",
       "    .dataframe tbody tr th {\n",
       "        vertical-align: top;\n",
       "    }\n",
       "\n",
       "    .dataframe thead th {\n",
       "        text-align: right;\n",
       "    }\n",
       "</style>\n",
       "<table border=\"1\" class=\"dataframe\">\n",
       "  <thead>\n",
       "    <tr style=\"text-align: right;\">\n",
       "      <th></th>\n",
       "      <th>Unnamed: 0</th>\n",
       "      <th>Title</th>\n",
       "      <th>Zero_Down_Payment</th>\n",
       "      <th>Total_Price</th>\n",
       "      <th>KM_on_Road</th>\n",
       "      <th>Transmission</th>\n",
       "    </tr>\n",
       "  </thead>\n",
       "  <tbody>\n",
       "    <tr>\n",
       "      <th>0</th>\n",
       "      <td>0</td>\n",
       "      <td>2015 Maruti Alto 800</td>\n",
       "      <td>₹6,671/month</td>\n",
       "      <td>₹2,99,899</td>\n",
       "      <td>6,381 km1st OwnerPetrol</td>\n",
       "      <td>LXI Manual</td>\n",
       "    </tr>\n",
       "    <tr>\n",
       "      <th>1</th>\n",
       "      <td>1</td>\n",
       "      <td>2020 Maruti Celerio X</td>\n",
       "      <td>₹14,695/month</td>\n",
       "      <td>₹6,60,599</td>\n",
       "      <td>4,613 km1st OwnerPetrol</td>\n",
       "      <td>ZXI OPT AMT Automatic</td>\n",
       "    </tr>\n",
       "    <tr>\n",
       "      <th>2</th>\n",
       "      <td>2</td>\n",
       "      <td>2020 Renault TRIBER</td>\n",
       "      <td>₹15,349/month</td>\n",
       "      <td>₹6,89,999</td>\n",
       "      <td>17,396 km2nd OwnerPetrol</td>\n",
       "      <td>RXZ AT Automatic</td>\n",
       "    </tr>\n",
       "    <tr>\n",
       "      <th>3</th>\n",
       "      <td>3</td>\n",
       "      <td>2015 Maruti Celerio</td>\n",
       "      <td>₹8,008/month</td>\n",
       "      <td>₹3,59,999</td>\n",
       "      <td>22,939 km1st OwnerPetrol</td>\n",
       "      <td>LXI Manual</td>\n",
       "    </tr>\n",
       "    <tr>\n",
       "      <th>4</th>\n",
       "      <td>4</td>\n",
       "      <td>2013 Hyundai i20</td>\n",
       "      <td>₹8,435/month</td>\n",
       "      <td>₹3,79,199</td>\n",
       "      <td>34,587 km1st OwnerPetrol</td>\n",
       "      <td>MAGNA O 1.2 Manual</td>\n",
       "    </tr>\n",
       "  </tbody>\n",
       "</table>\n",
       "</div>"
      ],
      "text/plain": [
       "   Unnamed: 0                  Title Zero_Down_Payment Total_Price  \\\n",
       "0           0   2015 Maruti Alto 800      ₹6,671/month   ₹2,99,899   \n",
       "1           1  2020 Maruti Celerio X     ₹14,695/month   ₹6,60,599   \n",
       "2           2    2020 Renault TRIBER     ₹15,349/month   ₹6,89,999   \n",
       "3           3    2015 Maruti Celerio      ₹8,008/month   ₹3,59,999   \n",
       "4           4       2013 Hyundai i20      ₹8,435/month   ₹3,79,199   \n",
       "\n",
       "                 KM_on_Road           Transmission  \n",
       "0   6,381 km1st OwnerPetrol             LXI Manual  \n",
       "1   4,613 km1st OwnerPetrol  ZXI OPT AMT Automatic  \n",
       "2  17,396 km2nd OwnerPetrol       RXZ AT Automatic  \n",
       "3  22,939 km1st OwnerPetrol             LXI Manual  \n",
       "4  34,587 km1st OwnerPetrol     MAGNA O 1.2 Manual  "
      ]
     },
     "execution_count": 2,
     "metadata": {},
     "output_type": "execute_result"
    }
   ],
   "source": [
    "df=pd.read_excel('E:\\Python\\Python notes\\Web Scrapping projects\\Car_project\\Car_data_f.xlsx')\n",
    "df.head()"
   ]
  },
  {
   "cell_type": "code",
   "execution_count": 3,
   "id": "379ec181",
   "metadata": {
    "scrolled": true
   },
   "outputs": [
    {
     "data": {
      "text/plain": [
       "Unnamed: 0            int64\n",
       "Title                object\n",
       "Zero_Down_Payment    object\n",
       "Total_Price          object\n",
       "KM_on_Road           object\n",
       "Transmission         object\n",
       "dtype: object"
      ]
     },
     "execution_count": 3,
     "metadata": {},
     "output_type": "execute_result"
    }
   ],
   "source": [
    "df.dtypes"
   ]
  },
  {
   "cell_type": "code",
   "execution_count": 4,
   "id": "8a9018df",
   "metadata": {},
   "outputs": [
    {
     "data": {
      "text/html": [
       "<div>\n",
       "<style scoped>\n",
       "    .dataframe tbody tr th:only-of-type {\n",
       "        vertical-align: middle;\n",
       "    }\n",
       "\n",
       "    .dataframe tbody tr th {\n",
       "        vertical-align: top;\n",
       "    }\n",
       "\n",
       "    .dataframe thead th {\n",
       "        text-align: right;\n",
       "    }\n",
       "</style>\n",
       "<table border=\"1\" class=\"dataframe\">\n",
       "  <thead>\n",
       "    <tr style=\"text-align: right;\">\n",
       "      <th></th>\n",
       "      <th>Unnamed: 0</th>\n",
       "      <th>Title</th>\n",
       "      <th>Zero_Down_Payment</th>\n",
       "      <th>Total_Price</th>\n",
       "      <th>KM_on_Road</th>\n",
       "      <th>Transmission</th>\n",
       "    </tr>\n",
       "  </thead>\n",
       "  <tbody>\n",
       "    <tr>\n",
       "      <th>0</th>\n",
       "      <td>0</td>\n",
       "      <td>2015 Maruti Alto 800</td>\n",
       "      <td>6671</td>\n",
       "      <td>299899</td>\n",
       "      <td>6,381 km1st OwnerPetrol</td>\n",
       "      <td>LXI Manual</td>\n",
       "    </tr>\n",
       "    <tr>\n",
       "      <th>1</th>\n",
       "      <td>1</td>\n",
       "      <td>2020 Maruti Celerio X</td>\n",
       "      <td>14695</td>\n",
       "      <td>660599</td>\n",
       "      <td>4,613 km1st OwnerPetrol</td>\n",
       "      <td>ZXI OPT AMT Automatic</td>\n",
       "    </tr>\n",
       "    <tr>\n",
       "      <th>2</th>\n",
       "      <td>2</td>\n",
       "      <td>2020 Renault TRIBER</td>\n",
       "      <td>15349</td>\n",
       "      <td>689999</td>\n",
       "      <td>17,396 km2nd OwnerPetrol</td>\n",
       "      <td>RXZ AT Automatic</td>\n",
       "    </tr>\n",
       "    <tr>\n",
       "      <th>3</th>\n",
       "      <td>3</td>\n",
       "      <td>2015 Maruti Celerio</td>\n",
       "      <td>8008</td>\n",
       "      <td>359999</td>\n",
       "      <td>22,939 km1st OwnerPetrol</td>\n",
       "      <td>LXI Manual</td>\n",
       "    </tr>\n",
       "    <tr>\n",
       "      <th>4</th>\n",
       "      <td>4</td>\n",
       "      <td>2013 Hyundai i20</td>\n",
       "      <td>8435</td>\n",
       "      <td>379199</td>\n",
       "      <td>34,587 km1st OwnerPetrol</td>\n",
       "      <td>MAGNA O 1.2 Manual</td>\n",
       "    </tr>\n",
       "  </tbody>\n",
       "</table>\n",
       "</div>"
      ],
      "text/plain": [
       "   Unnamed: 0                  Title  Zero_Down_Payment  Total_Price  \\\n",
       "0           0   2015 Maruti Alto 800               6671       299899   \n",
       "1           1  2020 Maruti Celerio X              14695       660599   \n",
       "2           2    2020 Renault TRIBER              15349       689999   \n",
       "3           3    2015 Maruti Celerio               8008       359999   \n",
       "4           4       2013 Hyundai i20               8435       379199   \n",
       "\n",
       "                 KM_on_Road           Transmission  \n",
       "0   6,381 km1st OwnerPetrol             LXI Manual  \n",
       "1   4,613 km1st OwnerPetrol  ZXI OPT AMT Automatic  \n",
       "2  17,396 km2nd OwnerPetrol       RXZ AT Automatic  \n",
       "3  22,939 km1st OwnerPetrol             LXI Manual  \n",
       "4  34,587 km1st OwnerPetrol     MAGNA O 1.2 Manual  "
      ]
     },
     "execution_count": 4,
     "metadata": {},
     "output_type": "execute_result"
    }
   ],
   "source": [
    "df['Total_Price']=df['Total_Price'].apply(lambda x:x.replace('₹','').replace(',','')).astype(int)\n",
    "df['Zero_Down_Payment']=df['Zero_Down_Payment'].apply(lambda x:x.replace('₹','').replace(',','').replace('/month','')).astype(int)\n",
    "df.head()"
   ]
  },
  {
   "cell_type": "code",
   "execution_count": 5,
   "id": "246aeeb3",
   "metadata": {},
   "outputs": [
    {
     "data": {
      "text/plain": [
       "Unnamed: 0            int64\n",
       "Title                object\n",
       "Zero_Down_Payment     int32\n",
       "Total_Price           int32\n",
       "KM_on_Road           object\n",
       "Transmission         object\n",
       "dtype: object"
      ]
     },
     "execution_count": 5,
     "metadata": {},
     "output_type": "execute_result"
    }
   ],
   "source": [
    "df.dtypes"
   ]
  },
  {
   "cell_type": "code",
   "execution_count": 6,
   "id": "1ca5a0b3",
   "metadata": {
    "scrolled": true
   },
   "outputs": [
    {
     "data": {
      "text/html": [
       "<div>\n",
       "<style scoped>\n",
       "    .dataframe tbody tr th:only-of-type {\n",
       "        vertical-align: middle;\n",
       "    }\n",
       "\n",
       "    .dataframe tbody tr th {\n",
       "        vertical-align: top;\n",
       "    }\n",
       "\n",
       "    .dataframe thead th {\n",
       "        text-align: right;\n",
       "    }\n",
       "</style>\n",
       "<table border=\"1\" class=\"dataframe\">\n",
       "  <thead>\n",
       "    <tr style=\"text-align: right;\">\n",
       "      <th></th>\n",
       "      <th>Unnamed: 0</th>\n",
       "      <th>Title</th>\n",
       "      <th>Zero_Down_Payment</th>\n",
       "      <th>Total_Price</th>\n",
       "      <th>KM_on_Road</th>\n",
       "      <th>Transmission</th>\n",
       "      <th>Year</th>\n",
       "    </tr>\n",
       "  </thead>\n",
       "  <tbody>\n",
       "    <tr>\n",
       "      <th>0</th>\n",
       "      <td>0</td>\n",
       "      <td>2015 Maruti Alto 800</td>\n",
       "      <td>6671</td>\n",
       "      <td>299899</td>\n",
       "      <td>6,381 km1st OwnerPetrol</td>\n",
       "      <td>LXI Manual</td>\n",
       "      <td>2015</td>\n",
       "    </tr>\n",
       "    <tr>\n",
       "      <th>1</th>\n",
       "      <td>1</td>\n",
       "      <td>2020 Maruti Celerio X</td>\n",
       "      <td>14695</td>\n",
       "      <td>660599</td>\n",
       "      <td>4,613 km1st OwnerPetrol</td>\n",
       "      <td>ZXI OPT AMT Automatic</td>\n",
       "      <td>2020</td>\n",
       "    </tr>\n",
       "    <tr>\n",
       "      <th>2</th>\n",
       "      <td>2</td>\n",
       "      <td>2020 Renault TRIBER</td>\n",
       "      <td>15349</td>\n",
       "      <td>689999</td>\n",
       "      <td>17,396 km2nd OwnerPetrol</td>\n",
       "      <td>RXZ AT Automatic</td>\n",
       "      <td>2020</td>\n",
       "    </tr>\n",
       "    <tr>\n",
       "      <th>3</th>\n",
       "      <td>3</td>\n",
       "      <td>2015 Maruti Celerio</td>\n",
       "      <td>8008</td>\n",
       "      <td>359999</td>\n",
       "      <td>22,939 km1st OwnerPetrol</td>\n",
       "      <td>LXI Manual</td>\n",
       "      <td>2015</td>\n",
       "    </tr>\n",
       "    <tr>\n",
       "      <th>4</th>\n",
       "      <td>4</td>\n",
       "      <td>2013 Hyundai i20</td>\n",
       "      <td>8435</td>\n",
       "      <td>379199</td>\n",
       "      <td>34,587 km1st OwnerPetrol</td>\n",
       "      <td>MAGNA O 1.2 Manual</td>\n",
       "      <td>2013</td>\n",
       "    </tr>\n",
       "  </tbody>\n",
       "</table>\n",
       "</div>"
      ],
      "text/plain": [
       "   Unnamed: 0                  Title  Zero_Down_Payment  Total_Price  \\\n",
       "0           0   2015 Maruti Alto 800               6671       299899   \n",
       "1           1  2020 Maruti Celerio X              14695       660599   \n",
       "2           2    2020 Renault TRIBER              15349       689999   \n",
       "3           3    2015 Maruti Celerio               8008       359999   \n",
       "4           4       2013 Hyundai i20               8435       379199   \n",
       "\n",
       "                 KM_on_Road           Transmission  Year  \n",
       "0   6,381 km1st OwnerPetrol             LXI Manual  2015  \n",
       "1   4,613 km1st OwnerPetrol  ZXI OPT AMT Automatic  2020  \n",
       "2  17,396 km2nd OwnerPetrol       RXZ AT Automatic  2020  \n",
       "3  22,939 km1st OwnerPetrol             LXI Manual  2015  \n",
       "4  34,587 km1st OwnerPetrol     MAGNA O 1.2 Manual  2013  "
      ]
     },
     "execution_count": 6,
     "metadata": {},
     "output_type": "execute_result"
    }
   ],
   "source": [
    "regex='\\d+'\n",
    "df['Year'] =df['Title'].apply(lambda x:re.compile(regex).search(x).group(0)).astype(int)\n",
    "df.head()"
   ]
  },
  {
   "cell_type": "code",
   "execution_count": 7,
   "id": "443a1ffa",
   "metadata": {},
   "outputs": [
    {
     "data": {
      "text/plain": [
       "Unnamed: 0            int64\n",
       "Title                object\n",
       "Zero_Down_Payment     int32\n",
       "Total_Price           int32\n",
       "KM_on_Road           object\n",
       "Transmission         object\n",
       "Year                  int32\n",
       "dtype: object"
      ]
     },
     "execution_count": 7,
     "metadata": {},
     "output_type": "execute_result"
    }
   ],
   "source": [
    "df.dtypes"
   ]
  },
  {
   "cell_type": "code",
   "execution_count": 8,
   "id": "4089cb56",
   "metadata": {
    "scrolled": true
   },
   "outputs": [
    {
     "data": {
      "text/html": [
       "<div>\n",
       "<style scoped>\n",
       "    .dataframe tbody tr th:only-of-type {\n",
       "        vertical-align: middle;\n",
       "    }\n",
       "\n",
       "    .dataframe tbody tr th {\n",
       "        vertical-align: top;\n",
       "    }\n",
       "\n",
       "    .dataframe thead th {\n",
       "        text-align: right;\n",
       "    }\n",
       "</style>\n",
       "<table border=\"1\" class=\"dataframe\">\n",
       "  <thead>\n",
       "    <tr style=\"text-align: right;\">\n",
       "      <th></th>\n",
       "      <th>Unnamed: 0</th>\n",
       "      <th>Title</th>\n",
       "      <th>Zero_Down_Payment</th>\n",
       "      <th>Total_Price</th>\n",
       "      <th>KM_on_Road</th>\n",
       "      <th>Transmission</th>\n",
       "      <th>Year</th>\n",
       "      <th>Owner</th>\n",
       "    </tr>\n",
       "  </thead>\n",
       "  <tbody>\n",
       "    <tr>\n",
       "      <th>0</th>\n",
       "      <td>0</td>\n",
       "      <td>2015 Maruti Alto 800</td>\n",
       "      <td>6671</td>\n",
       "      <td>299899</td>\n",
       "      <td>6,381 km1st OwnerPetrol</td>\n",
       "      <td>LXI Manual</td>\n",
       "      <td>2015</td>\n",
       "      <td>1st Owner</td>\n",
       "    </tr>\n",
       "    <tr>\n",
       "      <th>1</th>\n",
       "      <td>1</td>\n",
       "      <td>2020 Maruti Celerio X</td>\n",
       "      <td>14695</td>\n",
       "      <td>660599</td>\n",
       "      <td>4,613 km1st OwnerPetrol</td>\n",
       "      <td>ZXI OPT AMT Automatic</td>\n",
       "      <td>2020</td>\n",
       "      <td>1st Owner</td>\n",
       "    </tr>\n",
       "    <tr>\n",
       "      <th>2</th>\n",
       "      <td>2</td>\n",
       "      <td>2020 Renault TRIBER</td>\n",
       "      <td>15349</td>\n",
       "      <td>689999</td>\n",
       "      <td>17,396 km2nd OwnerPetrol</td>\n",
       "      <td>RXZ AT Automatic</td>\n",
       "      <td>2020</td>\n",
       "      <td>2nd Owner</td>\n",
       "    </tr>\n",
       "    <tr>\n",
       "      <th>3</th>\n",
       "      <td>3</td>\n",
       "      <td>2015 Maruti Celerio</td>\n",
       "      <td>8008</td>\n",
       "      <td>359999</td>\n",
       "      <td>22,939 km1st OwnerPetrol</td>\n",
       "      <td>LXI Manual</td>\n",
       "      <td>2015</td>\n",
       "      <td>1st Owner</td>\n",
       "    </tr>\n",
       "    <tr>\n",
       "      <th>4</th>\n",
       "      <td>4</td>\n",
       "      <td>2013 Hyundai i20</td>\n",
       "      <td>8435</td>\n",
       "      <td>379199</td>\n",
       "      <td>34,587 km1st OwnerPetrol</td>\n",
       "      <td>MAGNA O 1.2 Manual</td>\n",
       "      <td>2013</td>\n",
       "      <td>1st Owner</td>\n",
       "    </tr>\n",
       "  </tbody>\n",
       "</table>\n",
       "</div>"
      ],
      "text/plain": [
       "   Unnamed: 0                  Title  Zero_Down_Payment  Total_Price  \\\n",
       "0           0   2015 Maruti Alto 800               6671       299899   \n",
       "1           1  2020 Maruti Celerio X              14695       660599   \n",
       "2           2    2020 Renault TRIBER              15349       689999   \n",
       "3           3    2015 Maruti Celerio               8008       359999   \n",
       "4           4       2013 Hyundai i20               8435       379199   \n",
       "\n",
       "                 KM_on_Road           Transmission  Year      Owner  \n",
       "0   6,381 km1st OwnerPetrol             LXI Manual  2015  1st Owner  \n",
       "1   4,613 km1st OwnerPetrol  ZXI OPT AMT Automatic  2020  1st Owner  \n",
       "2  17,396 km2nd OwnerPetrol       RXZ AT Automatic  2020  2nd Owner  \n",
       "3  22,939 km1st OwnerPetrol             LXI Manual  2015  1st Owner  \n",
       "4  34,587 km1st OwnerPetrol     MAGNA O 1.2 Manual  2013  1st Owner  "
      ]
     },
     "execution_count": 8,
     "metadata": {},
     "output_type": "execute_result"
    }
   ],
   "source": [
    "regex=\"[1st or 2nd or 3rd\\s]+Owner\"\n",
    "df['Owner'] =df['KM_on_Road'].apply(lambda x:re.compile(regex).search(x).group(0))\n",
    "df.head()"
   ]
  },
  {
   "cell_type": "code",
   "execution_count": 9,
   "id": "1bdeadc1",
   "metadata": {
    "scrolled": true
   },
   "outputs": [
    {
     "data": {
      "text/html": [
       "<div>\n",
       "<style scoped>\n",
       "    .dataframe tbody tr th:only-of-type {\n",
       "        vertical-align: middle;\n",
       "    }\n",
       "\n",
       "    .dataframe tbody tr th {\n",
       "        vertical-align: top;\n",
       "    }\n",
       "\n",
       "    .dataframe thead th {\n",
       "        text-align: right;\n",
       "    }\n",
       "</style>\n",
       "<table border=\"1\" class=\"dataframe\">\n",
       "  <thead>\n",
       "    <tr style=\"text-align: right;\">\n",
       "      <th></th>\n",
       "      <th>Unnamed: 0</th>\n",
       "      <th>Title</th>\n",
       "      <th>Zero_Down_Payment</th>\n",
       "      <th>Total_Price</th>\n",
       "      <th>KM_on_Road</th>\n",
       "      <th>Transmission</th>\n",
       "      <th>Year</th>\n",
       "      <th>Owner</th>\n",
       "      <th>Model_name</th>\n",
       "    </tr>\n",
       "  </thead>\n",
       "  <tbody>\n",
       "    <tr>\n",
       "      <th>0</th>\n",
       "      <td>0</td>\n",
       "      <td>2015 Maruti Alto 800</td>\n",
       "      <td>6671</td>\n",
       "      <td>299899</td>\n",
       "      <td>6,381 km1st OwnerPetrol</td>\n",
       "      <td>LXI Manual</td>\n",
       "      <td>2015</td>\n",
       "      <td>1st Owner</td>\n",
       "      <td>Maruti Alto</td>\n",
       "    </tr>\n",
       "    <tr>\n",
       "      <th>1</th>\n",
       "      <td>1</td>\n",
       "      <td>2020 Maruti Celerio X</td>\n",
       "      <td>14695</td>\n",
       "      <td>660599</td>\n",
       "      <td>4,613 km1st OwnerPetrol</td>\n",
       "      <td>ZXI OPT AMT Automatic</td>\n",
       "      <td>2020</td>\n",
       "      <td>1st Owner</td>\n",
       "      <td>Maruti Celerio X</td>\n",
       "    </tr>\n",
       "    <tr>\n",
       "      <th>2</th>\n",
       "      <td>2</td>\n",
       "      <td>2020 Renault TRIBER</td>\n",
       "      <td>15349</td>\n",
       "      <td>689999</td>\n",
       "      <td>17,396 km2nd OwnerPetrol</td>\n",
       "      <td>RXZ AT Automatic</td>\n",
       "      <td>2020</td>\n",
       "      <td>2nd Owner</td>\n",
       "      <td>Renault TRIBER</td>\n",
       "    </tr>\n",
       "    <tr>\n",
       "      <th>3</th>\n",
       "      <td>3</td>\n",
       "      <td>2015 Maruti Celerio</td>\n",
       "      <td>8008</td>\n",
       "      <td>359999</td>\n",
       "      <td>22,939 km1st OwnerPetrol</td>\n",
       "      <td>LXI Manual</td>\n",
       "      <td>2015</td>\n",
       "      <td>1st Owner</td>\n",
       "      <td>Maruti Celerio</td>\n",
       "    </tr>\n",
       "    <tr>\n",
       "      <th>4</th>\n",
       "      <td>4</td>\n",
       "      <td>2013 Hyundai i20</td>\n",
       "      <td>8435</td>\n",
       "      <td>379199</td>\n",
       "      <td>34,587 km1st OwnerPetrol</td>\n",
       "      <td>MAGNA O 1.2 Manual</td>\n",
       "      <td>2013</td>\n",
       "      <td>1st Owner</td>\n",
       "      <td>Hyundai i</td>\n",
       "    </tr>\n",
       "  </tbody>\n",
       "</table>\n",
       "</div>"
      ],
      "text/plain": [
       "   Unnamed: 0                  Title  Zero_Down_Payment  Total_Price  \\\n",
       "0           0   2015 Maruti Alto 800               6671       299899   \n",
       "1           1  2020 Maruti Celerio X              14695       660599   \n",
       "2           2    2020 Renault TRIBER              15349       689999   \n",
       "3           3    2015 Maruti Celerio               8008       359999   \n",
       "4           4       2013 Hyundai i20               8435       379199   \n",
       "\n",
       "                 KM_on_Road           Transmission  Year      Owner  \\\n",
       "0   6,381 km1st OwnerPetrol             LXI Manual  2015  1st Owner   \n",
       "1   4,613 km1st OwnerPetrol  ZXI OPT AMT Automatic  2020  1st Owner   \n",
       "2  17,396 km2nd OwnerPetrol       RXZ AT Automatic  2020  2nd Owner   \n",
       "3  22,939 km1st OwnerPetrol             LXI Manual  2015  1st Owner   \n",
       "4  34,587 km1st OwnerPetrol     MAGNA O 1.2 Manual  2013  1st Owner   \n",
       "\n",
       "          Model_name  \n",
       "0       Maruti Alto   \n",
       "1   Maruti Celerio X  \n",
       "2     Renault TRIBER  \n",
       "3     Maruti Celerio  \n",
       "4          Hyundai i  "
      ]
     },
     "execution_count": 9,
     "metadata": {},
     "output_type": "execute_result"
    }
   ],
   "source": [
    "regex='\\D+'\n",
    "df['Model_name']=df['Title'].apply(lambda x:re.compile(regex).search(x).group(0))\n",
    "df.head()"
   ]
  },
  {
   "cell_type": "code",
   "execution_count": 10,
   "id": "3c92f16a",
   "metadata": {},
   "outputs": [
    {
     "data": {
      "text/html": [
       "<div>\n",
       "<style scoped>\n",
       "    .dataframe tbody tr th:only-of-type {\n",
       "        vertical-align: middle;\n",
       "    }\n",
       "\n",
       "    .dataframe tbody tr th {\n",
       "        vertical-align: top;\n",
       "    }\n",
       "\n",
       "    .dataframe thead th {\n",
       "        text-align: right;\n",
       "    }\n",
       "</style>\n",
       "<table border=\"1\" class=\"dataframe\">\n",
       "  <thead>\n",
       "    <tr style=\"text-align: right;\">\n",
       "      <th></th>\n",
       "      <th>Unnamed: 0</th>\n",
       "      <th>Title</th>\n",
       "      <th>Zero_Down_Payment</th>\n",
       "      <th>Total_Price</th>\n",
       "      <th>KM_on_Road</th>\n",
       "      <th>Transmission</th>\n",
       "      <th>Year</th>\n",
       "      <th>Owner</th>\n",
       "      <th>Model_name</th>\n",
       "      <th>Oil</th>\n",
       "    </tr>\n",
       "  </thead>\n",
       "  <tbody>\n",
       "    <tr>\n",
       "      <th>0</th>\n",
       "      <td>0</td>\n",
       "      <td>2015 Maruti Alto 800</td>\n",
       "      <td>6671</td>\n",
       "      <td>299899</td>\n",
       "      <td>6,381 km1st OwnerPetrol</td>\n",
       "      <td>LXI Manual</td>\n",
       "      <td>2015</td>\n",
       "      <td>1st Owner</td>\n",
       "      <td>Maruti Alto</td>\n",
       "      <td>Petrol</td>\n",
       "    </tr>\n",
       "    <tr>\n",
       "      <th>1</th>\n",
       "      <td>1</td>\n",
       "      <td>2020 Maruti Celerio X</td>\n",
       "      <td>14695</td>\n",
       "      <td>660599</td>\n",
       "      <td>4,613 km1st OwnerPetrol</td>\n",
       "      <td>ZXI OPT AMT Automatic</td>\n",
       "      <td>2020</td>\n",
       "      <td>1st Owner</td>\n",
       "      <td>Maruti Celerio X</td>\n",
       "      <td>Petrol</td>\n",
       "    </tr>\n",
       "    <tr>\n",
       "      <th>2</th>\n",
       "      <td>2</td>\n",
       "      <td>2020 Renault TRIBER</td>\n",
       "      <td>15349</td>\n",
       "      <td>689999</td>\n",
       "      <td>17,396 km2nd OwnerPetrol</td>\n",
       "      <td>RXZ AT Automatic</td>\n",
       "      <td>2020</td>\n",
       "      <td>2nd Owner</td>\n",
       "      <td>Renault TRIBER</td>\n",
       "      <td>Petrol</td>\n",
       "    </tr>\n",
       "    <tr>\n",
       "      <th>3</th>\n",
       "      <td>3</td>\n",
       "      <td>2015 Maruti Celerio</td>\n",
       "      <td>8008</td>\n",
       "      <td>359999</td>\n",
       "      <td>22,939 km1st OwnerPetrol</td>\n",
       "      <td>LXI Manual</td>\n",
       "      <td>2015</td>\n",
       "      <td>1st Owner</td>\n",
       "      <td>Maruti Celerio</td>\n",
       "      <td>Petrol</td>\n",
       "    </tr>\n",
       "    <tr>\n",
       "      <th>4</th>\n",
       "      <td>4</td>\n",
       "      <td>2013 Hyundai i20</td>\n",
       "      <td>8435</td>\n",
       "      <td>379199</td>\n",
       "      <td>34,587 km1st OwnerPetrol</td>\n",
       "      <td>MAGNA O 1.2 Manual</td>\n",
       "      <td>2013</td>\n",
       "      <td>1st Owner</td>\n",
       "      <td>Hyundai i</td>\n",
       "      <td>Petrol</td>\n",
       "    </tr>\n",
       "  </tbody>\n",
       "</table>\n",
       "</div>"
      ],
      "text/plain": [
       "   Unnamed: 0                  Title  Zero_Down_Payment  Total_Price  \\\n",
       "0           0   2015 Maruti Alto 800               6671       299899   \n",
       "1           1  2020 Maruti Celerio X              14695       660599   \n",
       "2           2    2020 Renault TRIBER              15349       689999   \n",
       "3           3    2015 Maruti Celerio               8008       359999   \n",
       "4           4       2013 Hyundai i20               8435       379199   \n",
       "\n",
       "                 KM_on_Road           Transmission  Year      Owner  \\\n",
       "0   6,381 km1st OwnerPetrol             LXI Manual  2015  1st Owner   \n",
       "1   4,613 km1st OwnerPetrol  ZXI OPT AMT Automatic  2020  1st Owner   \n",
       "2  17,396 km2nd OwnerPetrol       RXZ AT Automatic  2020  2nd Owner   \n",
       "3  22,939 km1st OwnerPetrol             LXI Manual  2015  1st Owner   \n",
       "4  34,587 km1st OwnerPetrol     MAGNA O 1.2 Manual  2013  1st Owner   \n",
       "\n",
       "          Model_name     Oil  \n",
       "0       Maruti Alto   Petrol  \n",
       "1   Maruti Celerio X  Petrol  \n",
       "2     Renault TRIBER  Petrol  \n",
       "3     Maruti Celerio  Petrol  \n",
       "4          Hyundai i  Petrol  "
      ]
     },
     "execution_count": 10,
     "metadata": {},
     "output_type": "execute_result"
    }
   ],
   "source": [
    "regex='[P|D]\\D+$'\n",
    "df['Oil'] =df['KM_on_Road'].apply(lambda x:re.compile(regex).search(x).group(0))\n",
    "df.head()"
   ]
  },
  {
   "cell_type": "code",
   "execution_count": 11,
   "id": "96c21104",
   "metadata": {
    "scrolled": true
   },
   "outputs": [
    {
     "data": {
      "text/html": [
       "<div>\n",
       "<style scoped>\n",
       "    .dataframe tbody tr th:only-of-type {\n",
       "        vertical-align: middle;\n",
       "    }\n",
       "\n",
       "    .dataframe tbody tr th {\n",
       "        vertical-align: top;\n",
       "    }\n",
       "\n",
       "    .dataframe thead th {\n",
       "        text-align: right;\n",
       "    }\n",
       "</style>\n",
       "<table border=\"1\" class=\"dataframe\">\n",
       "  <thead>\n",
       "    <tr style=\"text-align: right;\">\n",
       "      <th></th>\n",
       "      <th>Unnamed: 0</th>\n",
       "      <th>Title</th>\n",
       "      <th>Zero_Down_Payment</th>\n",
       "      <th>Total_Price</th>\n",
       "      <th>KM_on_Road</th>\n",
       "      <th>Transmission</th>\n",
       "      <th>Year</th>\n",
       "      <th>Owner</th>\n",
       "      <th>Model_name</th>\n",
       "      <th>Oil</th>\n",
       "    </tr>\n",
       "  </thead>\n",
       "  <tbody>\n",
       "    <tr>\n",
       "      <th>0</th>\n",
       "      <td>0</td>\n",
       "      <td>2015 Maruti Alto 800</td>\n",
       "      <td>6671</td>\n",
       "      <td>299899</td>\n",
       "      <td>6381</td>\n",
       "      <td>LXI Manual</td>\n",
       "      <td>2015</td>\n",
       "      <td>1st Owner</td>\n",
       "      <td>Maruti Alto</td>\n",
       "      <td>Petrol</td>\n",
       "    </tr>\n",
       "    <tr>\n",
       "      <th>1</th>\n",
       "      <td>1</td>\n",
       "      <td>2020 Maruti Celerio X</td>\n",
       "      <td>14695</td>\n",
       "      <td>660599</td>\n",
       "      <td>4613</td>\n",
       "      <td>ZXI OPT AMT Automatic</td>\n",
       "      <td>2020</td>\n",
       "      <td>1st Owner</td>\n",
       "      <td>Maruti Celerio X</td>\n",
       "      <td>Petrol</td>\n",
       "    </tr>\n",
       "    <tr>\n",
       "      <th>2</th>\n",
       "      <td>2</td>\n",
       "      <td>2020 Renault TRIBER</td>\n",
       "      <td>15349</td>\n",
       "      <td>689999</td>\n",
       "      <td>17396</td>\n",
       "      <td>RXZ AT Automatic</td>\n",
       "      <td>2020</td>\n",
       "      <td>2nd Owner</td>\n",
       "      <td>Renault TRIBER</td>\n",
       "      <td>Petrol</td>\n",
       "    </tr>\n",
       "    <tr>\n",
       "      <th>3</th>\n",
       "      <td>3</td>\n",
       "      <td>2015 Maruti Celerio</td>\n",
       "      <td>8008</td>\n",
       "      <td>359999</td>\n",
       "      <td>22939</td>\n",
       "      <td>LXI Manual</td>\n",
       "      <td>2015</td>\n",
       "      <td>1st Owner</td>\n",
       "      <td>Maruti Celerio</td>\n",
       "      <td>Petrol</td>\n",
       "    </tr>\n",
       "    <tr>\n",
       "      <th>4</th>\n",
       "      <td>4</td>\n",
       "      <td>2013 Hyundai i20</td>\n",
       "      <td>8435</td>\n",
       "      <td>379199</td>\n",
       "      <td>34587</td>\n",
       "      <td>MAGNA O 1.2 Manual</td>\n",
       "      <td>2013</td>\n",
       "      <td>1st Owner</td>\n",
       "      <td>Hyundai i</td>\n",
       "      <td>Petrol</td>\n",
       "    </tr>\n",
       "  </tbody>\n",
       "</table>\n",
       "</div>"
      ],
      "text/plain": [
       "   Unnamed: 0                  Title  Zero_Down_Payment  Total_Price  \\\n",
       "0           0   2015 Maruti Alto 800               6671       299899   \n",
       "1           1  2020 Maruti Celerio X              14695       660599   \n",
       "2           2    2020 Renault TRIBER              15349       689999   \n",
       "3           3    2015 Maruti Celerio               8008       359999   \n",
       "4           4       2013 Hyundai i20               8435       379199   \n",
       "\n",
       "   KM_on_Road           Transmission  Year      Owner         Model_name  \\\n",
       "0        6381             LXI Manual  2015  1st Owner       Maruti Alto    \n",
       "1        4613  ZXI OPT AMT Automatic  2020  1st Owner   Maruti Celerio X   \n",
       "2       17396       RXZ AT Automatic  2020  2nd Owner     Renault TRIBER   \n",
       "3       22939             LXI Manual  2015  1st Owner     Maruti Celerio   \n",
       "4       34587     MAGNA O 1.2 Manual  2013  1st Owner          Hyundai i   \n",
       "\n",
       "      Oil  \n",
       "0  Petrol  \n",
       "1  Petrol  \n",
       "2  Petrol  \n",
       "3  Petrol  \n",
       "4  Petrol  "
      ]
     },
     "execution_count": 11,
     "metadata": {},
     "output_type": "execute_result"
    }
   ],
   "source": [
    "df['KM_on_Road']=df['KM_on_Road'].apply(lambda x:x.replace(',','').replace('km1st OwnerPetrol','').replace('km2nd OwnerPetrol','').replace( 'km2nd OwnerDiesel','').replace('km1st OwnerDiesel','').replace('km3rd OwnerDiesel','').replace('km3rd OwnerPetrol','').replace('+ CNG','')).astype(int)\n",
    "df.head()"
   ]
  },
  {
   "cell_type": "code",
   "execution_count": 12,
   "id": "8be2fee5",
   "metadata": {},
   "outputs": [
    {
     "data": {
      "text/plain": [
       "Unnamed: 0            int64\n",
       "Title                object\n",
       "Zero_Down_Payment     int32\n",
       "Total_Price           int32\n",
       "KM_on_Road            int32\n",
       "Transmission         object\n",
       "Year                  int32\n",
       "Owner                object\n",
       "Model_name           object\n",
       "Oil                  object\n",
       "dtype: object"
      ]
     },
     "execution_count": 12,
     "metadata": {},
     "output_type": "execute_result"
    }
   ],
   "source": [
    "df.dtypes"
   ]
  },
  {
   "cell_type": "code",
   "execution_count": 13,
   "id": "d64fc16b",
   "metadata": {
    "scrolled": true
   },
   "outputs": [
    {
     "data": {
      "text/html": [
       "<div>\n",
       "<style scoped>\n",
       "    .dataframe tbody tr th:only-of-type {\n",
       "        vertical-align: middle;\n",
       "    }\n",
       "\n",
       "    .dataframe tbody tr th {\n",
       "        vertical-align: top;\n",
       "    }\n",
       "\n",
       "    .dataframe thead th {\n",
       "        text-align: right;\n",
       "    }\n",
       "</style>\n",
       "<table border=\"1\" class=\"dataframe\">\n",
       "  <thead>\n",
       "    <tr style=\"text-align: right;\">\n",
       "      <th></th>\n",
       "      <th>Unnamed: 0</th>\n",
       "      <th>Title</th>\n",
       "      <th>Zero_Down_Payment</th>\n",
       "      <th>Total_Price</th>\n",
       "      <th>KM_on_Road</th>\n",
       "      <th>Transmission</th>\n",
       "      <th>Year</th>\n",
       "      <th>Owner</th>\n",
       "      <th>Model_name</th>\n",
       "      <th>Oil</th>\n",
       "      <th>Brand_name</th>\n",
       "    </tr>\n",
       "  </thead>\n",
       "  <tbody>\n",
       "    <tr>\n",
       "      <th>0</th>\n",
       "      <td>0</td>\n",
       "      <td>2015 Maruti Alto 800</td>\n",
       "      <td>6671</td>\n",
       "      <td>299899</td>\n",
       "      <td>6381</td>\n",
       "      <td>LXI Manual</td>\n",
       "      <td>2015</td>\n",
       "      <td>1st Owner</td>\n",
       "      <td>Maruti Alto</td>\n",
       "      <td>Petrol</td>\n",
       "      <td>Maruti Alto</td>\n",
       "    </tr>\n",
       "    <tr>\n",
       "      <th>1</th>\n",
       "      <td>1</td>\n",
       "      <td>2020 Maruti Celerio X</td>\n",
       "      <td>14695</td>\n",
       "      <td>660599</td>\n",
       "      <td>4613</td>\n",
       "      <td>ZXI OPT AMT Automatic</td>\n",
       "      <td>2020</td>\n",
       "      <td>1st Owner</td>\n",
       "      <td>Maruti Celerio X</td>\n",
       "      <td>Petrol</td>\n",
       "      <td>Maruti Celerio</td>\n",
       "    </tr>\n",
       "    <tr>\n",
       "      <th>2</th>\n",
       "      <td>2</td>\n",
       "      <td>2020 Renault TRIBER</td>\n",
       "      <td>15349</td>\n",
       "      <td>689999</td>\n",
       "      <td>17396</td>\n",
       "      <td>RXZ AT Automatic</td>\n",
       "      <td>2020</td>\n",
       "      <td>2nd Owner</td>\n",
       "      <td>Renault TRIBER</td>\n",
       "      <td>Petrol</td>\n",
       "      <td>Renault</td>\n",
       "    </tr>\n",
       "    <tr>\n",
       "      <th>3</th>\n",
       "      <td>3</td>\n",
       "      <td>2015 Maruti Celerio</td>\n",
       "      <td>8008</td>\n",
       "      <td>359999</td>\n",
       "      <td>22939</td>\n",
       "      <td>LXI Manual</td>\n",
       "      <td>2015</td>\n",
       "      <td>1st Owner</td>\n",
       "      <td>Maruti Celerio</td>\n",
       "      <td>Petrol</td>\n",
       "      <td>Maruti</td>\n",
       "    </tr>\n",
       "    <tr>\n",
       "      <th>4</th>\n",
       "      <td>4</td>\n",
       "      <td>2013 Hyundai i20</td>\n",
       "      <td>8435</td>\n",
       "      <td>379199</td>\n",
       "      <td>34587</td>\n",
       "      <td>MAGNA O 1.2 Manual</td>\n",
       "      <td>2013</td>\n",
       "      <td>1st Owner</td>\n",
       "      <td>Hyundai i</td>\n",
       "      <td>Petrol</td>\n",
       "      <td>Hyundai</td>\n",
       "    </tr>\n",
       "  </tbody>\n",
       "</table>\n",
       "</div>"
      ],
      "text/plain": [
       "   Unnamed: 0                  Title  Zero_Down_Payment  Total_Price  \\\n",
       "0           0   2015 Maruti Alto 800               6671       299899   \n",
       "1           1  2020 Maruti Celerio X              14695       660599   \n",
       "2           2    2020 Renault TRIBER              15349       689999   \n",
       "3           3    2015 Maruti Celerio               8008       359999   \n",
       "4           4       2013 Hyundai i20               8435       379199   \n",
       "\n",
       "   KM_on_Road           Transmission  Year      Owner         Model_name  \\\n",
       "0        6381             LXI Manual  2015  1st Owner       Maruti Alto    \n",
       "1        4613  ZXI OPT AMT Automatic  2020  1st Owner   Maruti Celerio X   \n",
       "2       17396       RXZ AT Automatic  2020  2nd Owner     Renault TRIBER   \n",
       "3       22939             LXI Manual  2015  1st Owner     Maruti Celerio   \n",
       "4       34587     MAGNA O 1.2 Manual  2013  1st Owner          Hyundai i   \n",
       "\n",
       "      Oil        Brand_name  \n",
       "0  Petrol      Maruti Alto   \n",
       "1  Petrol   Maruti Celerio   \n",
       "2  Petrol          Renault   \n",
       "3  Petrol           Maruti   \n",
       "4  Petrol          Hyundai   "
      ]
     },
     "execution_count": 13,
     "metadata": {},
     "output_type": "execute_result"
    }
   ],
   "source": [
    "regex='\\D+\\s'\n",
    "df['Brand_name'] = df['Model_name'].apply(lambda x:re.compile(regex).search(x).group(0))\n",
    "df.head()"
   ]
  },
  {
   "cell_type": "code",
   "execution_count": 14,
   "id": "fed4a027",
   "metadata": {},
   "outputs": [
    {
     "data": {
      "text/plain": [
       "array([' Maruti Alto ', ' Maruti Celerio ', ' Renault ', ' Maruti ',\n",
       "       ' Hyundai ', ' Maruti Wagon R ', ' Maruti Swift ', ' Mahindra ',\n",
       "       ' KIA ', ' Honda ', ' Tata ', ' MG ', ' Toyota URBAN ',\n",
       "       ' Hyundai Elite ', ' Maruti New  ', ' Volkswagen ',\n",
       "       ' Toyota Innova ', ' Hyundai Grand ', ' Toyota ', ' Maruti S ',\n",
       "       ' Ford ', ' Toyota Corolla ', ' Mahindra XUV ', ' Hyundai NEW ',\n",
       "       ' Datsun Redi ', ' Skoda ', ' Maruti Vitara ', ' Jeep ', ' BMW ',\n",
       "       ' Ford Figo '], dtype=object)"
      ]
     },
     "execution_count": 14,
     "metadata": {},
     "output_type": "execute_result"
    }
   ],
   "source": [
    "df.Brand_name.unique()"
   ]
  },
  {
   "cell_type": "code",
   "execution_count": 15,
   "id": "33ca7828",
   "metadata": {},
   "outputs": [
    {
     "data": {
      "text/html": [
       "<div>\n",
       "<style scoped>\n",
       "    .dataframe tbody tr th:only-of-type {\n",
       "        vertical-align: middle;\n",
       "    }\n",
       "\n",
       "    .dataframe tbody tr th {\n",
       "        vertical-align: top;\n",
       "    }\n",
       "\n",
       "    .dataframe thead th {\n",
       "        text-align: right;\n",
       "    }\n",
       "</style>\n",
       "<table border=\"1\" class=\"dataframe\">\n",
       "  <thead>\n",
       "    <tr style=\"text-align: right;\">\n",
       "      <th></th>\n",
       "      <th>Unnamed: 0</th>\n",
       "      <th>Title</th>\n",
       "      <th>Zero_Down_Payment</th>\n",
       "      <th>Total_Price</th>\n",
       "      <th>KM_on_Road</th>\n",
       "      <th>Transmission</th>\n",
       "      <th>Year</th>\n",
       "      <th>Owner</th>\n",
       "      <th>Model_name</th>\n",
       "      <th>Oil</th>\n",
       "      <th>Brand_name</th>\n",
       "    </tr>\n",
       "  </thead>\n",
       "  <tbody>\n",
       "    <tr>\n",
       "      <th>0</th>\n",
       "      <td>0</td>\n",
       "      <td>2015 Maruti Alto 800</td>\n",
       "      <td>6671</td>\n",
       "      <td>299899</td>\n",
       "      <td>6381</td>\n",
       "      <td>LXI Manual</td>\n",
       "      <td>2015</td>\n",
       "      <td>1st Owner</td>\n",
       "      <td>Maruti Alto</td>\n",
       "      <td>Petrol</td>\n",
       "      <td>Maruti</td>\n",
       "    </tr>\n",
       "    <tr>\n",
       "      <th>1</th>\n",
       "      <td>1</td>\n",
       "      <td>2020 Maruti Celerio X</td>\n",
       "      <td>14695</td>\n",
       "      <td>660599</td>\n",
       "      <td>4613</td>\n",
       "      <td>ZXI OPT AMT Automatic</td>\n",
       "      <td>2020</td>\n",
       "      <td>1st Owner</td>\n",
       "      <td>Maruti Celerio X</td>\n",
       "      <td>Petrol</td>\n",
       "      <td>Maruti</td>\n",
       "    </tr>\n",
       "    <tr>\n",
       "      <th>2</th>\n",
       "      <td>2</td>\n",
       "      <td>2020 Renault TRIBER</td>\n",
       "      <td>15349</td>\n",
       "      <td>689999</td>\n",
       "      <td>17396</td>\n",
       "      <td>RXZ AT Automatic</td>\n",
       "      <td>2020</td>\n",
       "      <td>2nd Owner</td>\n",
       "      <td>Renault TRIBER</td>\n",
       "      <td>Petrol</td>\n",
       "      <td>Renault</td>\n",
       "    </tr>\n",
       "    <tr>\n",
       "      <th>3</th>\n",
       "      <td>3</td>\n",
       "      <td>2015 Maruti Celerio</td>\n",
       "      <td>8008</td>\n",
       "      <td>359999</td>\n",
       "      <td>22939</td>\n",
       "      <td>LXI Manual</td>\n",
       "      <td>2015</td>\n",
       "      <td>1st Owner</td>\n",
       "      <td>Maruti Celerio</td>\n",
       "      <td>Petrol</td>\n",
       "      <td>Maruti</td>\n",
       "    </tr>\n",
       "    <tr>\n",
       "      <th>4</th>\n",
       "      <td>4</td>\n",
       "      <td>2013 Hyundai i20</td>\n",
       "      <td>8435</td>\n",
       "      <td>379199</td>\n",
       "      <td>34587</td>\n",
       "      <td>MAGNA O 1.2 Manual</td>\n",
       "      <td>2013</td>\n",
       "      <td>1st Owner</td>\n",
       "      <td>Hyundai i</td>\n",
       "      <td>Petrol</td>\n",
       "      <td>Hyundai</td>\n",
       "    </tr>\n",
       "  </tbody>\n",
       "</table>\n",
       "</div>"
      ],
      "text/plain": [
       "   Unnamed: 0                  Title  Zero_Down_Payment  Total_Price  \\\n",
       "0           0   2015 Maruti Alto 800               6671       299899   \n",
       "1           1  2020 Maruti Celerio X              14695       660599   \n",
       "2           2    2020 Renault TRIBER              15349       689999   \n",
       "3           3    2015 Maruti Celerio               8008       359999   \n",
       "4           4       2013 Hyundai i20               8435       379199   \n",
       "\n",
       "   KM_on_Road           Transmission  Year      Owner         Model_name  \\\n",
       "0        6381             LXI Manual  2015  1st Owner       Maruti Alto    \n",
       "1        4613  ZXI OPT AMT Automatic  2020  1st Owner   Maruti Celerio X   \n",
       "2       17396       RXZ AT Automatic  2020  2nd Owner     Renault TRIBER   \n",
       "3       22939             LXI Manual  2015  1st Owner     Maruti Celerio   \n",
       "4       34587     MAGNA O 1.2 Manual  2013  1st Owner          Hyundai i   \n",
       "\n",
       "      Oil Brand_name  \n",
       "0  Petrol    Maruti   \n",
       "1  Petrol    Maruti   \n",
       "2  Petrol   Renault   \n",
       "3  Petrol    Maruti   \n",
       "4  Petrol   Hyundai   "
      ]
     },
     "execution_count": 15,
     "metadata": {},
     "output_type": "execute_result"
    }
   ],
   "source": [
    "df['Brand_name']=df['Brand_name'].apply(lambda x:x.replace('Maruti Alto','Maruti').replace('Maruti Celerio','Maruti').replace('Maruti Wagon R','Maruti').replace('Maruti Swift','Maruti').replace('Toyota URBAN','Toyota').replace('Hyundai Elite','Hyundai').replace('Maruti New ','Maruti').replace('Toyota Innova','Toyota').replace('Hyundai Grand','Hyundai').replace('Maruti S','Maruti').replace('Toyota Corolla','Toyota').replace('Mahindra XUV','Mahindra').replace('Hyundai NEW','Hyundai').replace('Datsun Redi','Datsun').replace('Maruti Vitara','Maruti').replace('Ford Figo','Ford'))\n",
    "df.head()"
   ]
  },
  {
   "cell_type": "code",
   "execution_count": 16,
   "id": "5568f855",
   "metadata": {},
   "outputs": [
    {
     "data": {
      "text/plain": [
       "array([' Maruti ', ' Renault ', ' Hyundai ', ' Mahindra ', ' KIA ',\n",
       "       ' Honda ', ' Tata ', ' MG ', ' Toyota ', ' Volkswagen ', ' Ford ',\n",
       "       ' Datsun ', ' Skoda ', ' Jeep ', ' BMW '], dtype=object)"
      ]
     },
     "execution_count": 16,
     "metadata": {},
     "output_type": "execute_result"
    }
   ],
   "source": [
    "df.Brand_name.unique()"
   ]
  },
  {
   "cell_type": "code",
   "execution_count": 17,
   "id": "3473d8f9",
   "metadata": {
    "scrolled": true
   },
   "outputs": [
    {
     "name": "stdout",
     "output_type": "stream",
     "text": [
      "<class 'pandas.core.frame.DataFrame'>\n",
      "RangeIndex: 420 entries, 0 to 419\n",
      "Data columns (total 11 columns):\n",
      " #   Column             Non-Null Count  Dtype \n",
      "---  ------             --------------  ----- \n",
      " 0   Unnamed: 0         420 non-null    int64 \n",
      " 1   Title              420 non-null    object\n",
      " 2   Zero_Down_Payment  420 non-null    int32 \n",
      " 3   Total_Price        420 non-null    int32 \n",
      " 4   KM_on_Road         420 non-null    int32 \n",
      " 5   Transmission       420 non-null    object\n",
      " 6   Year               420 non-null    int32 \n",
      " 7   Owner              420 non-null    object\n",
      " 8   Model_name         420 non-null    object\n",
      " 9   Oil                420 non-null    object\n",
      " 10  Brand_name         420 non-null    object\n",
      "dtypes: int32(4), int64(1), object(6)\n",
      "memory usage: 29.7+ KB\n"
     ]
    }
   ],
   "source": [
    "df.info()"
   ]
  },
  {
   "cell_type": "code",
   "execution_count": 18,
   "id": "5e065fa1",
   "metadata": {},
   "outputs": [],
   "source": [
    "df.drop(['Unnamed: 0','Title'],axis=1,inplace=True)"
   ]
  },
  {
   "cell_type": "code",
   "execution_count": 19,
   "id": "424e9268",
   "metadata": {
    "scrolled": true
   },
   "outputs": [
    {
     "data": {
      "text/html": [
       "<div>\n",
       "<style scoped>\n",
       "    .dataframe tbody tr th:only-of-type {\n",
       "        vertical-align: middle;\n",
       "    }\n",
       "\n",
       "    .dataframe tbody tr th {\n",
       "        vertical-align: top;\n",
       "    }\n",
       "\n",
       "    .dataframe thead th {\n",
       "        text-align: right;\n",
       "    }\n",
       "</style>\n",
       "<table border=\"1\" class=\"dataframe\">\n",
       "  <thead>\n",
       "    <tr style=\"text-align: right;\">\n",
       "      <th></th>\n",
       "      <th>Zero_Down_Payment</th>\n",
       "      <th>Total_Price</th>\n",
       "      <th>KM_on_Road</th>\n",
       "      <th>Transmission</th>\n",
       "      <th>Year</th>\n",
       "      <th>Owner</th>\n",
       "      <th>Model_name</th>\n",
       "      <th>Oil</th>\n",
       "      <th>Brand_name</th>\n",
       "    </tr>\n",
       "  </thead>\n",
       "  <tbody>\n",
       "    <tr>\n",
       "      <th>0</th>\n",
       "      <td>6671</td>\n",
       "      <td>299899</td>\n",
       "      <td>6381</td>\n",
       "      <td>LXI Manual</td>\n",
       "      <td>2015</td>\n",
       "      <td>1st Owner</td>\n",
       "      <td>Maruti Alto</td>\n",
       "      <td>Petrol</td>\n",
       "      <td>Maruti</td>\n",
       "    </tr>\n",
       "    <tr>\n",
       "      <th>1</th>\n",
       "      <td>14695</td>\n",
       "      <td>660599</td>\n",
       "      <td>4613</td>\n",
       "      <td>ZXI OPT AMT Automatic</td>\n",
       "      <td>2020</td>\n",
       "      <td>1st Owner</td>\n",
       "      <td>Maruti Celerio X</td>\n",
       "      <td>Petrol</td>\n",
       "      <td>Maruti</td>\n",
       "    </tr>\n",
       "    <tr>\n",
       "      <th>2</th>\n",
       "      <td>15349</td>\n",
       "      <td>689999</td>\n",
       "      <td>17396</td>\n",
       "      <td>RXZ AT Automatic</td>\n",
       "      <td>2020</td>\n",
       "      <td>2nd Owner</td>\n",
       "      <td>Renault TRIBER</td>\n",
       "      <td>Petrol</td>\n",
       "      <td>Renault</td>\n",
       "    </tr>\n",
       "    <tr>\n",
       "      <th>3</th>\n",
       "      <td>8008</td>\n",
       "      <td>359999</td>\n",
       "      <td>22939</td>\n",
       "      <td>LXI Manual</td>\n",
       "      <td>2015</td>\n",
       "      <td>1st Owner</td>\n",
       "      <td>Maruti Celerio</td>\n",
       "      <td>Petrol</td>\n",
       "      <td>Maruti</td>\n",
       "    </tr>\n",
       "    <tr>\n",
       "      <th>4</th>\n",
       "      <td>8435</td>\n",
       "      <td>379199</td>\n",
       "      <td>34587</td>\n",
       "      <td>MAGNA O 1.2 Manual</td>\n",
       "      <td>2013</td>\n",
       "      <td>1st Owner</td>\n",
       "      <td>Hyundai i</td>\n",
       "      <td>Petrol</td>\n",
       "      <td>Hyundai</td>\n",
       "    </tr>\n",
       "  </tbody>\n",
       "</table>\n",
       "</div>"
      ],
      "text/plain": [
       "   Zero_Down_Payment  Total_Price  KM_on_Road           Transmission  Year  \\\n",
       "0               6671       299899        6381             LXI Manual  2015   \n",
       "1              14695       660599        4613  ZXI OPT AMT Automatic  2020   \n",
       "2              15349       689999       17396       RXZ AT Automatic  2020   \n",
       "3               8008       359999       22939             LXI Manual  2015   \n",
       "4               8435       379199       34587     MAGNA O 1.2 Manual  2013   \n",
       "\n",
       "       Owner         Model_name     Oil Brand_name  \n",
       "0  1st Owner       Maruti Alto   Petrol    Maruti   \n",
       "1  1st Owner   Maruti Celerio X  Petrol    Maruti   \n",
       "2  2nd Owner     Renault TRIBER  Petrol   Renault   \n",
       "3  1st Owner     Maruti Celerio  Petrol    Maruti   \n",
       "4  1st Owner          Hyundai i  Petrol   Hyundai   "
      ]
     },
     "execution_count": 19,
     "metadata": {},
     "output_type": "execute_result"
    }
   ],
   "source": [
    "df.head()"
   ]
  },
  {
   "cell_type": "code",
   "execution_count": 20,
   "id": "057170b3",
   "metadata": {},
   "outputs": [],
   "source": [
    "df = df[['Brand_name','Model_name','Year','Total_Price','Zero_Down_Payment','Owner','Oil','KM_on_Road','Transmission']]"
   ]
  },
  {
   "cell_type": "code",
   "execution_count": 21,
   "id": "7bb93c43",
   "metadata": {
    "scrolled": true
   },
   "outputs": [
    {
     "data": {
      "text/html": [
       "<div>\n",
       "<style scoped>\n",
       "    .dataframe tbody tr th:only-of-type {\n",
       "        vertical-align: middle;\n",
       "    }\n",
       "\n",
       "    .dataframe tbody tr th {\n",
       "        vertical-align: top;\n",
       "    }\n",
       "\n",
       "    .dataframe thead th {\n",
       "        text-align: right;\n",
       "    }\n",
       "</style>\n",
       "<table border=\"1\" class=\"dataframe\">\n",
       "  <thead>\n",
       "    <tr style=\"text-align: right;\">\n",
       "      <th></th>\n",
       "      <th>Brand_name</th>\n",
       "      <th>Model_name</th>\n",
       "      <th>Year</th>\n",
       "      <th>Total_Price</th>\n",
       "      <th>Zero_Down_Payment</th>\n",
       "      <th>Owner</th>\n",
       "      <th>Oil</th>\n",
       "      <th>KM_on_Road</th>\n",
       "      <th>Transmission</th>\n",
       "    </tr>\n",
       "  </thead>\n",
       "  <tbody>\n",
       "    <tr>\n",
       "      <th>0</th>\n",
       "      <td>Maruti</td>\n",
       "      <td>Maruti Alto</td>\n",
       "      <td>2015</td>\n",
       "      <td>299899</td>\n",
       "      <td>6671</td>\n",
       "      <td>1st Owner</td>\n",
       "      <td>Petrol</td>\n",
       "      <td>6381</td>\n",
       "      <td>LXI Manual</td>\n",
       "    </tr>\n",
       "    <tr>\n",
       "      <th>1</th>\n",
       "      <td>Maruti</td>\n",
       "      <td>Maruti Celerio X</td>\n",
       "      <td>2020</td>\n",
       "      <td>660599</td>\n",
       "      <td>14695</td>\n",
       "      <td>1st Owner</td>\n",
       "      <td>Petrol</td>\n",
       "      <td>4613</td>\n",
       "      <td>ZXI OPT AMT Automatic</td>\n",
       "    </tr>\n",
       "    <tr>\n",
       "      <th>2</th>\n",
       "      <td>Renault</td>\n",
       "      <td>Renault TRIBER</td>\n",
       "      <td>2020</td>\n",
       "      <td>689999</td>\n",
       "      <td>15349</td>\n",
       "      <td>2nd Owner</td>\n",
       "      <td>Petrol</td>\n",
       "      <td>17396</td>\n",
       "      <td>RXZ AT Automatic</td>\n",
       "    </tr>\n",
       "    <tr>\n",
       "      <th>3</th>\n",
       "      <td>Maruti</td>\n",
       "      <td>Maruti Celerio</td>\n",
       "      <td>2015</td>\n",
       "      <td>359999</td>\n",
       "      <td>8008</td>\n",
       "      <td>1st Owner</td>\n",
       "      <td>Petrol</td>\n",
       "      <td>22939</td>\n",
       "      <td>LXI Manual</td>\n",
       "    </tr>\n",
       "    <tr>\n",
       "      <th>4</th>\n",
       "      <td>Hyundai</td>\n",
       "      <td>Hyundai i</td>\n",
       "      <td>2013</td>\n",
       "      <td>379199</td>\n",
       "      <td>8435</td>\n",
       "      <td>1st Owner</td>\n",
       "      <td>Petrol</td>\n",
       "      <td>34587</td>\n",
       "      <td>MAGNA O 1.2 Manual</td>\n",
       "    </tr>\n",
       "    <tr>\n",
       "      <th>...</th>\n",
       "      <td>...</td>\n",
       "      <td>...</td>\n",
       "      <td>...</td>\n",
       "      <td>...</td>\n",
       "      <td>...</td>\n",
       "      <td>...</td>\n",
       "      <td>...</td>\n",
       "      <td>...</td>\n",
       "      <td>...</td>\n",
       "    </tr>\n",
       "    <tr>\n",
       "      <th>415</th>\n",
       "      <td>Hyundai</td>\n",
       "      <td>Hyundai Grand i</td>\n",
       "      <td>2016</td>\n",
       "      <td>510599</td>\n",
       "      <td>11358</td>\n",
       "      <td>1st Owner</td>\n",
       "      <td>Petrol</td>\n",
       "      <td>71122</td>\n",
       "      <td>ASTA AT 1.2 KAPPA VTVT Automatic</td>\n",
       "    </tr>\n",
       "    <tr>\n",
       "      <th>416</th>\n",
       "      <td>Honda</td>\n",
       "      <td>Honda WR-V</td>\n",
       "      <td>2018</td>\n",
       "      <td>767599</td>\n",
       "      <td>17075</td>\n",
       "      <td>1st Owner</td>\n",
       "      <td>Petrol</td>\n",
       "      <td>25660</td>\n",
       "      <td>1.2 i-VTEC VX MT Manual</td>\n",
       "    </tr>\n",
       "    <tr>\n",
       "      <th>417</th>\n",
       "      <td>Honda</td>\n",
       "      <td>Honda City</td>\n",
       "      <td>2018</td>\n",
       "      <td>1051799</td>\n",
       "      <td>23397</td>\n",
       "      <td>1st Owner</td>\n",
       "      <td>Petrol</td>\n",
       "      <td>33613</td>\n",
       "      <td>ZX CVT Automatic</td>\n",
       "    </tr>\n",
       "    <tr>\n",
       "      <th>418</th>\n",
       "      <td>Maruti</td>\n",
       "      <td>Maruti Alto</td>\n",
       "      <td>2021</td>\n",
       "      <td>449699</td>\n",
       "      <td>10003</td>\n",
       "      <td>1st Owner</td>\n",
       "      <td>Petrol</td>\n",
       "      <td>3401</td>\n",
       "      <td>VXI PLUS Manual</td>\n",
       "    </tr>\n",
       "    <tr>\n",
       "      <th>419</th>\n",
       "      <td>Honda</td>\n",
       "      <td>Honda City</td>\n",
       "      <td>2018</td>\n",
       "      <td>917099</td>\n",
       "      <td>20400</td>\n",
       "      <td>1st Owner</td>\n",
       "      <td>Petrol</td>\n",
       "      <td>25153</td>\n",
       "      <td>V CVT Automatic</td>\n",
       "    </tr>\n",
       "  </tbody>\n",
       "</table>\n",
       "<p>420 rows × 9 columns</p>\n",
       "</div>"
      ],
      "text/plain": [
       "    Brand_name         Model_name  Year  Total_Price  Zero_Down_Payment  \\\n",
       "0      Maruti        Maruti Alto   2015       299899               6671   \n",
       "1      Maruti    Maruti Celerio X  2020       660599              14695   \n",
       "2     Renault      Renault TRIBER  2020       689999              15349   \n",
       "3      Maruti      Maruti Celerio  2015       359999               8008   \n",
       "4     Hyundai           Hyundai i  2013       379199               8435   \n",
       "..         ...                ...   ...          ...                ...   \n",
       "415   Hyundai     Hyundai Grand i  2016       510599              11358   \n",
       "416     Honda          Honda WR-V  2018       767599              17075   \n",
       "417     Honda          Honda City  2018      1051799              23397   \n",
       "418    Maruti         Maruti Alto  2021       449699              10003   \n",
       "419     Honda          Honda City  2018       917099              20400   \n",
       "\n",
       "         Owner     Oil  KM_on_Road                      Transmission  \n",
       "0    1st Owner  Petrol        6381                        LXI Manual  \n",
       "1    1st Owner  Petrol        4613             ZXI OPT AMT Automatic  \n",
       "2    2nd Owner  Petrol       17396                  RXZ AT Automatic  \n",
       "3    1st Owner  Petrol       22939                        LXI Manual  \n",
       "4    1st Owner  Petrol       34587                MAGNA O 1.2 Manual  \n",
       "..         ...     ...         ...                               ...  \n",
       "415  1st Owner  Petrol       71122  ASTA AT 1.2 KAPPA VTVT Automatic  \n",
       "416  1st Owner  Petrol       25660           1.2 i-VTEC VX MT Manual  \n",
       "417  1st Owner  Petrol       33613                  ZX CVT Automatic  \n",
       "418  1st Owner  Petrol        3401                   VXI PLUS Manual  \n",
       "419  1st Owner  Petrol       25153                   V CVT Automatic  \n",
       "\n",
       "[420 rows x 9 columns]"
      ]
     },
     "execution_count": 21,
     "metadata": {},
     "output_type": "execute_result"
    }
   ],
   "source": [
    "df"
   ]
  },
  {
   "cell_type": "code",
   "execution_count": 22,
   "id": "8b97ce95",
   "metadata": {
    "scrolled": true
   },
   "outputs": [
    {
     "data": {
      "text/plain": [
       "Brand_name           object\n",
       "Model_name           object\n",
       "Year                  int32\n",
       "Total_Price           int32\n",
       "Zero_Down_Payment     int32\n",
       "Owner                object\n",
       "Oil                  object\n",
       "KM_on_Road            int32\n",
       "Transmission         object\n",
       "dtype: object"
      ]
     },
     "execution_count": 22,
     "metadata": {},
     "output_type": "execute_result"
    }
   ],
   "source": [
    "df.dtypes"
   ]
  },
  {
   "cell_type": "code",
   "execution_count": 25,
   "id": "dcaa5533",
   "metadata": {},
   "outputs": [],
   "source": [
    "df.to_excel('E:\\Python\\Python notes\\Car_df.xlsx')#saved th excel file after cleaning the data\n"
   ]
  },
  {
   "cell_type": "markdown",
   "id": "4de316a0",
   "metadata": {},
   "source": [
    "### DATA VISUALIZATION"
   ]
  },
  {
   "cell_type": "code",
   "execution_count": 4,
   "id": "da367604",
   "metadata": {},
   "outputs": [],
   "source": [
    "df=pd.read_excel(\"E:\\Python\\Python notes\\Web Scrapping projects\\Car_project\\Car_df.xlsx\")\n"
   ]
  },
  {
   "cell_type": "code",
   "execution_count": 23,
   "id": "7d5c109b",
   "metadata": {
    "scrolled": true
   },
   "outputs": [
    {
     "data": {
      "image/png": "[encoded data removed]",
      "text/plain": [
       "<Figure size 1440x576 with 1 Axes>"
      ]
     },
     "metadata": {
      "needs_background": "light"
     },
     "output_type": "display_data"
    }
   ],
   "source": [
    "import warnings\n",
    "warnings.filterwarnings('ignore')\n",
    "plt.figure(figsize=(20,8))\n",
    "sns.distplot(df['Total_Price'],color = 'purple')\n",
    "plt.show()"
   ]
  },
  {
   "cell_type": "markdown",
   "id": "143d6545",
   "metadata": {},
   "source": [
    "This is an Distribution plot which shows us that on which price range most of the cars are. \n",
    "And by looking into this plot we can see that most of the cars price are in the range between 4000000 - 8000000"
   ]
  },
  {
   "cell_type": "code",
   "execution_count": 24,
   "id": "ba15bed9",
   "metadata": {
    "scrolled": true
   },
   "outputs": [
    {
     "data": {
      "image/png": "[encoded data removed]",
      "text/plain": [
       "<Figure size 432x288 with 1 Axes>"
      ]
     },
     "metadata": {
      "needs_background": "light"
     },
     "output_type": "display_data"
    }
   ],
   "source": [
    "import warnings\n",
    "warnings.filterwarnings('ignore')\n",
    "sns.boxplot(df['Total_Price'],color='red')\n",
    "plt.title('Box Plot')\n",
    "plt.show()"
   ]
  },
  {
   "cell_type": "markdown",
   "id": "ce8f12bb",
   "metadata": {},
   "source": [
    "This is an Box plot which shows us how many out layers are there.\n",
    "In this plot we can see that there are many outlayers present."
   ]
  },
  {
   "cell_type": "code",
   "execution_count": 25,
   "id": "56a1505b",
   "metadata": {
    "scrolled": true
   },
   "outputs": [
    {
     "data": {
      "image/png": "[encoded data removed]",
      "text/plain": [
       "<Figure size 1080x360 with 1 Axes>"
      ]
     },
     "metadata": {
      "needs_background": "light"
     },
     "output_type": "display_data"
    }
   ],
   "source": [
    "plt.figure(figsize=(15,5))\n",
    "plt.scatter(df['Total_Price'],df['Zero_Down_Payment'])\n",
    "plt.xlabel('Price')\n",
    "plt.ylabel('Down Payment')\n",
    "plt.show()"
   ]
  },
  {
   "cell_type": "markdown",
   "id": "8b87cf12",
   "metadata": {},
   "source": [
    "From this scatter plot we can understand that price of the car and Down payment are directly proportional.\n"
   ]
  },
  {
   "cell_type": "code",
   "execution_count": 26,
   "id": "ac4431d8",
   "metadata": {
    "scrolled": true
   },
   "outputs": [
    {
     "data": {
      "text/plain": [
       "<seaborn.axisgrid.FacetGrid at 0x267e3722f40>"
      ]
     },
     "execution_count": 26,
     "metadata": {},
     "output_type": "execute_result"
    },
    {
     "data": {
      "image/png": "[encoded data removed]",
      "text/plain": [
       "<Figure size 360x360 with 1 Axes>"
      ]
     },
     "metadata": {
      "needs_background": "light"
     },
     "output_type": "display_data"
    }
   ],
   "source": [
    "sns.displot(df['Oil'],kind='hist',color='green')"
   ]
  },
  {
   "cell_type": "markdown",
   "id": "eb1896f7",
   "metadata": {},
   "source": [
    "From this plot we can see the number of cars with petrol, Diesel and Petrol+CNG\n",
    "Petrol - 300+ cars \n",
    "Diesel – Approx 90 cars\n",
    "Petrol+CNG  - Approx  5 cars"
   ]
  },
  {
   "cell_type": "code",
   "execution_count": 32,
   "id": "f5ab4d26",
   "metadata": {
    "scrolled": true
   },
   "outputs": [
    {
     "data": {
      "text/html": [
       "<div>\n",
       "<style scoped>\n",
       "    .dataframe tbody tr th:only-of-type {\n",
       "        vertical-align: middle;\n",
       "    }\n",
       "\n",
       "    .dataframe tbody tr th {\n",
       "        vertical-align: top;\n",
       "    }\n",
       "\n",
       "    .dataframe thead th {\n",
       "        text-align: right;\n",
       "    }\n",
       "</style>\n",
       "<table border=\"1\" class=\"dataframe\">\n",
       "  <thead>\n",
       "    <tr style=\"text-align: right;\">\n",
       "      <th></th>\n",
       "      <th>Brand_name</th>\n",
       "      <th>Model_name</th>\n",
       "      <th>Year</th>\n",
       "      <th>Total_Price</th>\n",
       "      <th>Zero_Down_Payment</th>\n",
       "      <th>Owner</th>\n",
       "      <th>Oil</th>\n",
       "      <th>KM_on_Road</th>\n",
       "      <th>Transmission</th>\n",
       "    </tr>\n",
       "  </thead>\n",
       "  <tbody>\n",
       "    <tr>\n",
       "      <th>0</th>\n",
       "      <td>Maruti</td>\n",
       "      <td>Maruti Alto</td>\n",
       "      <td>2015</td>\n",
       "      <td>299899</td>\n",
       "      <td>6671</td>\n",
       "      <td>1st Owner</td>\n",
       "      <td>Petrol</td>\n",
       "      <td>6381</td>\n",
       "      <td>LXI Manual</td>\n",
       "    </tr>\n",
       "    <tr>\n",
       "      <th>1</th>\n",
       "      <td>Maruti</td>\n",
       "      <td>Maruti Celerio X</td>\n",
       "      <td>2020</td>\n",
       "      <td>660599</td>\n",
       "      <td>14695</td>\n",
       "      <td>1st Owner</td>\n",
       "      <td>Petrol</td>\n",
       "      <td>4613</td>\n",
       "      <td>ZXI OPT AMT Automatic</td>\n",
       "    </tr>\n",
       "    <tr>\n",
       "      <th>2</th>\n",
       "      <td>Renault</td>\n",
       "      <td>Renault TRIBER</td>\n",
       "      <td>2020</td>\n",
       "      <td>689999</td>\n",
       "      <td>15349</td>\n",
       "      <td>2nd Owner</td>\n",
       "      <td>Petrol</td>\n",
       "      <td>17396</td>\n",
       "      <td>RXZ AT Automatic</td>\n",
       "    </tr>\n",
       "    <tr>\n",
       "      <th>3</th>\n",
       "      <td>Maruti</td>\n",
       "      <td>Maruti Celerio</td>\n",
       "      <td>2015</td>\n",
       "      <td>359999</td>\n",
       "      <td>8008</td>\n",
       "      <td>1st Owner</td>\n",
       "      <td>Petrol</td>\n",
       "      <td>22939</td>\n",
       "      <td>LXI Manual</td>\n",
       "    </tr>\n",
       "    <tr>\n",
       "      <th>4</th>\n",
       "      <td>Hyundai</td>\n",
       "      <td>Hyundai i</td>\n",
       "      <td>2013</td>\n",
       "      <td>379199</td>\n",
       "      <td>8435</td>\n",
       "      <td>1st Owner</td>\n",
       "      <td>Petrol</td>\n",
       "      <td>34587</td>\n",
       "      <td>MAGNA O 1.2 Manual</td>\n",
       "    </tr>\n",
       "  </tbody>\n",
       "</table>\n",
       "</div>"
      ],
      "text/plain": [
       "  Brand_name         Model_name  Year  Total_Price  Zero_Down_Payment  \\\n",
       "0    Maruti        Maruti Alto   2015       299899               6671   \n",
       "1    Maruti    Maruti Celerio X  2020       660599              14695   \n",
       "2   Renault      Renault TRIBER  2020       689999              15349   \n",
       "3    Maruti      Maruti Celerio  2015       359999               8008   \n",
       "4   Hyundai           Hyundai i  2013       379199               8435   \n",
       "\n",
       "       Owner     Oil  KM_on_Road           Transmission  \n",
       "0  1st Owner  Petrol        6381             LXI Manual  \n",
       "1  1st Owner  Petrol        4613  ZXI OPT AMT Automatic  \n",
       "2  2nd Owner  Petrol       17396       RXZ AT Automatic  \n",
       "3  1st Owner  Petrol       22939             LXI Manual  \n",
       "4  1st Owner  Petrol       34587     MAGNA O 1.2 Manual  "
      ]
     },
     "execution_count": 32,
     "metadata": {},
     "output_type": "execute_result"
    }
   ],
   "source": [
    "df.head()"
   ]
  },
  {
   "cell_type": "code",
   "execution_count": 33,
   "id": "42969cdf",
   "metadata": {},
   "outputs": [
    {
     "data": {
      "text/plain": [
       "<AxesSubplot:xlabel='Brand_name'>"
      ]
     },
     "execution_count": 33,
     "metadata": {},
     "output_type": "execute_result"
    },
    {
     "data": {
      "image/png": "[encoded data removed]",
      "text/plain": [
       "<Figure size 432x288 with 1 Axes>"
      ]
     },
     "metadata": {
      "needs_background": "light"
     },
     "output_type": "display_data"
    }
   ],
   "source": [
    "df.groupby('Brand_name')['Total_Price'].min().plot(kind='bar')"
   ]
  },
  {
   "cell_type": "code",
   "execution_count": 34,
   "id": "ea4af4d4",
   "metadata": {
    "scrolled": true
   },
   "outputs": [
    {
     "data": {
      "text/plain": [
       "<matplotlib.legend.Legend at 0x267e3802100>"
      ]
     },
     "execution_count": 34,
     "metadata": {},
     "output_type": "execute_result"
    },
    {
     "data": {
      "image/png": "[encoded data removed]",
      "text/plain": [
       "<Figure size 576x360 with 1 Axes>"
      ]
     },
     "metadata": {
      "needs_background": "light"
     },
     "output_type": "display_data"
    }
   ],
   "source": [
    "plt.figure(figsize=(8,5))\n",
    "df.groupby('Brand_name')['Total_Price'].max().plot(kind='bar',color='skyblue',label='Max_price')\n",
    "df.groupby('Brand_name')['Total_Price'].min().plot(kind='bar',color='red',label='Min_price')\n",
    "plt.legend()"
   ]
  },
  {
   "cell_type": "code",
   "execution_count": 35,
   "id": "5c664273",
   "metadata": {},
   "outputs": [
    {
     "data": {
      "image/png": "[encoded data removed]",
      "text/plain": [
       "<Figure size 1440x1440 with 4 Axes>"
      ]
     },
     "metadata": {
      "needs_background": "light"
     },
     "output_type": "display_data"
    }
   ],
   "source": [
    "df.hist(figsize=(20,20),color='purple')\n",
    "plt.show()"
   ]
  },
  {
   "cell_type": "code",
   "execution_count": 36,
   "id": "6d0ee3af",
   "metadata": {},
   "outputs": [
    {
     "data": {
      "image/png": "[encoded data removed]",
      "text/plain": [
       "<Figure size 821.125x720 with 20 Axes>"
      ]
     },
     "metadata": {
      "needs_background": "light"
     },
     "output_type": "display_data"
    }
   ],
   "source": [
    "sns.pairplot(df,hue='Oil')\n",
    "plt.show()"
   ]
  }
 ],
 "metadata": {
  "kernelspec": {
   "display_name": "Python 3 (ipykernel)",
   "language": "python",
   "name": "python3"
  },
  "language_info": {
   "codemirror_mode": {
    "name": "ipython",
    "version": 3
   },
   "file_extension": ".py",
   "mimetype": "text/x-python",
   "name": "python",
   "nbconvert_exporter": "python",
   "pygments_lexer": "ipython3",
   "version": "3.9.12"
  }
 },
 "nbformat": 4,
 "nbformat_minor": 5
}
